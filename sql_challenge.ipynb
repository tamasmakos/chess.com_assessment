{
 "cells": [
  {
   "cell_type": "code",
   "execution_count": 90,
   "metadata": {},
   "outputs": [],
   "source": [
    "import pandas as pd\n",
    "# Loading the csv file \n",
    "data = pd.read_csv('data.csv')"
   ]
  },
  {
   "cell_type": "code",
   "execution_count": 91,
   "metadata": {},
   "outputs": [
    {
     "name": "stdout",
     "output_type": "stream",
     "text": [
      "   user_id payment_date  payment_id  cancelled cancelled_date\n",
      "0        1   2022-01-01          10          0           None\n",
      "1        1   2022-02-01          11          0           None\n",
      "2        1   2022-03-01          12          0           None\n",
      "3        1   2022-04-01          13          1     2022-04-05\n",
      "4        1   2022-07-01          21          0           None\n",
      "5        1   2022-08-01          22          0           None\n",
      "6        1   2022-09-01          23          0           None\n",
      "7        1   2022-10-01          24          1     2022-10-05\n",
      "8        1   2022-11-01          25          0           None\n",
      "9        1   2022-12-01          26          0           None\n"
     ]
    }
   ],
   "source": [
    "from pandasql import sqldf\n",
    "import pandas as pd\n",
    "\n",
    "# Loading the csv file \n",
    "data = pd.read_csv('data.csv')\n",
    "data.head()\n",
    "\n",
    "query = '''\n",
    "SELECT *\n",
    "FROM data\n",
    "'''\n",
    "\n",
    "result = sqldf(query)\n",
    "print(result)\n"
   ]
  },
  {
   "cell_type": "code",
   "execution_count": 102,
   "metadata": {},
   "outputs": [
    {
     "name": "stdout",
     "output_type": "stream",
     "text": [
      "   user_id cancelled_date  payment_id_of_first_payment\n",
      "0        1     2022-04-05                           13\n",
      "1        1     2022-10-05                           24\n",
      "2        1           None                           26\n"
     ]
    }
   ],
   "source": [
    "query = '''\n",
    "SELECT \n",
    "    user_id,\n",
    "    cancelled_date,\n",
    "    CASE \n",
    "        WHEN cancelled=1 OR payment_number = 1 THEN min(payment_id) OVER (PARTITION BY user_id, payment_id)\n",
    "    END AS payment_id_of_first_payment\n",
    "FROM (\n",
    "    SELECT *,\n",
    "        ROW_NUMBER() OVER (PARTITION BY user_id ORDER BY payment_date DESC) AS payment_number\n",
    "    FROM data\n",
    ") subquery\n",
    "WHERE cancelled_date IS NOT NULL OR payment_number = 1\n",
    "'''\n",
    "\n",
    "result = sqldf(query)\n",
    "print(result)\n"
   ]
  }
 ],
 "metadata": {
  "kernelspec": {
   "display_name": "Python 3",
   "language": "python",
   "name": "python3"
  },
  "language_info": {
   "codemirror_mode": {
    "name": "ipython",
    "version": 3
   },
   "file_extension": ".py",
   "mimetype": "text/x-python",
   "name": "python",
   "nbconvert_exporter": "python",
   "pygments_lexer": "ipython3",
   "version": "3.11.3"
  },
  "orig_nbformat": 4
 },
 "nbformat": 4,
 "nbformat_minor": 2
}
