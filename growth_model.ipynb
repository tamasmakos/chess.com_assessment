{
 "cells": [
  {
   "cell_type": "code",
   "execution_count": null,
   "metadata": {},
   "outputs": [],
   "source": [
    "# Constructing a Growth Model"
   ]
  },
  {
   "cell_type": "code",
   "execution_count": 12,
   "metadata": {},
   "outputs": [],
   "source": [
    "import numpy as np\n",
    "\n",
    "# State index mapping\n",
    "# 0: New\n",
    "# 1: Paying Current\n",
    "# 2: Non-Paying Current\n",
    "# 3: Reactivated\n",
    "# 4: Resurrected\n",
    "# 5: At Risk WAU\n",
    "# 6: At Risk MAU\n",
    "# 7: Dormant\n",
    "\n",
    "# Transition matrix\n",
    "# Each row represents transitions from one state to other states.\n",
    "transition_matrix = np.array([\n",
    "    [0, 0.1, 0.1, 0, 0, 0.8, 0, 0],  # New -> Paying Current, Non-Paying Current, At Risk WAU\n",
    "    [0, 0.6, 0, 0, 0, 0.4, 0, 0],  # Paying Current -> Paying Current, At Risk WAU\n",
    "    [0, 0.07, 0.53, 0, 0, 0.4, 0, 0],  # Non-Paying Current -> Paying Current, Non-Paying Current, At Risk WAU\n",
    "    [0, 0.25, 0.25, 0, 0, 0, 0.5, 0],  # Reactivated -> Paying Current, Non-Paying Current, At Risk MAU\n",
    "    [0, 0.25, 0.25, 0, 0, 0, 0.5, 0],  # Resurrected -> Paying Current, Non-Paying Current, At Risk MAU\n",
    "    [0, 0, 0, 0, 0, 0, 1, 0],  # At Risk WAU -> At Risk MAU\n",
    "    [0, 0, 0, 0, 0.2, 0, 0, 0.8],  # At Risk MAU -> Resurrected, Dormant\n",
    "    [0, 0, 0, 0, 0.2, 0, 0, 0.8]  # Dormant -> Resurrected, Dormant\n",
    "])"
   ]
  },
  {
   "cell_type": "code",
   "execution_count": 13,
   "metadata": {},
   "outputs": [],
   "source": [
    "# Starting at New\n",
    "state = np.array([1, 0, 0, 0, 0, 0, 0, 0])"
   ]
  },
  {
   "cell_type": "code",
   "execution_count": 23,
   "metadata": {},
   "outputs": [
    {
     "name": "stdout",
     "output_type": "stream",
     "text": [
      "The transition with the biggest impact is from state 7 to state 3, with a change of 61024.93513322051 paying customers.\n"
     ]
    }
   ],
   "source": [
    "def simulate(users, transition_matrix, days=100):\n",
    "    for _ in range(days):\n",
    "        users = users.dot(transition_matrix)\n",
    "    return users\n",
    "\n",
    "# Initial number of users\n",
    "users = np.array([1000000, 0, 0, 0, 0, 0, 0, 0])\n",
    "\n",
    "# Baseline simulation\n",
    "baseline_users = simulate(users, transition_matrix)\n",
    "baseline_paying = baseline_users[1]\n",
    "\n",
    "# Sensitivity analysis\n",
    "delta = 0.01\n",
    "max_change = 0\n",
    "max_change_transition = None\n",
    "\n",
    "for i in range(transition_matrix.shape[0]):\n",
    "    for j in range(transition_matrix.shape[1]):\n",
    "        # Skip if increasing transition probability would make it > 1\n",
    "        # or if transition is from state 7 to state 1\n",
    "        if transition_matrix[i][j] + delta > 1 or (i == 7 and j == 1):\n",
    "            continue\n",
    "        \n",
    "        # Temporarily increase transition probability\n",
    "        transition_matrix[i][j] += delta\n",
    "\n",
    "        # New simulation\n",
    "        new_users = simulate(users, transition_matrix)\n",
    "        new_paying = new_users[1]\n",
    "\n",
    "        # Calculate change in paying customers\n",
    "        change = new_paying - baseline_paying\n",
    "\n",
    "        # Check if this is the biggest change we've seen\n",
    "        if abs(change) > abs(max_change):\n",
    "            max_change = change\n",
    "            max_change_transition = (i, j)\n",
    "\n",
    "        # Reset transition probability\n",
    "        transition_matrix[i][j] -= delta\n",
    "\n",
    "\n",
    "print(f\"The transition with the biggest impact is from state {max_change_transition[0]} to state {max_change_transition[1]}, with a change of {max_change} paying customers.\")"
   ]
  },
  {
   "cell_type": "code",
   "execution_count": null,
   "metadata": {},
   "outputs": [],
   "source": [
    "state_names = {\n",
    "    0: 'New',\n",
    "    1: 'Paying Current',\n",
    "    2: 'Non-Paying Current',\n",
    "    3: 'Reactivated',\n",
    "    4: 'Resurrected',\n",
    "    5: 'At Risk WAU',\n",
    "    6: 'At Risk MAU',\n",
    "    7: 'Dormant'\n",
    "}"
   ]
  }
 ],
 "metadata": {
  "kernelspec": {
   "display_name": "Python 3",
   "language": "python",
   "name": "python3"
  },
  "language_info": {
   "codemirror_mode": {
    "name": "ipython",
    "version": 3
   },
   "file_extension": ".py",
   "mimetype": "text/x-python",
   "name": "python",
   "nbconvert_exporter": "python",
   "pygments_lexer": "ipython3",
   "version": "3.11.3"
  },
  "orig_nbformat": 4
 },
 "nbformat": 4,
 "nbformat_minor": 2
}
